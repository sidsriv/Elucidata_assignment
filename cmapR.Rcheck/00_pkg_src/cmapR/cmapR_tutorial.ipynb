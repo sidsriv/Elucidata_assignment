{
 "cells": [
  {
   "cell_type": "markdown",
   "metadata": {},
   "source": [
    "# cmapR tutorial\n",
    "\n",
    "This notebook will walk through some of the basic functionality in the cmapR package, which is largely centered around working with matrix data in [GCT and GCTX format](https://clue.io/help#datasets). We'll be using data from one of CMap's GEO series, [GSE70138](https://www.ncbi.nlm.nih.gov/geo/query/acc.cgi?acc=GSE70138), but the steps below are applicable to any GCT or GCTX file."
   ]
  },
  {
   "cell_type": "markdown",
   "metadata": {},
   "source": [
    "## Obtaining Data from Gene Expression Omnibus (GEO)\n",
    "\n",
    "[Gene Expression Omnibus](https://www.ncbi.nlm.nih.gov/geo/), or GEO, is a NCBI-maintained public repository of array and sequence genomics data. As of April 2017, we have provided 1.7 million profiles to GEO at the following accessions:\n",
    "* [GSE70138](https://www.ncbi.nlm.nih.gov/geo/query/acc.cgi?acc=GSE70138)\n",
    "* [GSE92742](https://www.ncbi.nlm.nih.gov/geo/query/acc.cgi?acc=GSE92742)\n",
    "* [GSE92743](https://www.ncbi.nlm.nih.gov/geo/query/acc.cgi?acc=GSE92743)\n",
    "\n",
    "Please note that this does not represent the only data available in GCT and GCTX format; we simply mention it as a public resource for freely available data in these formats, and will use it as an example in this tutorial.\n",
    "Data can be downloaded from GEO using either using FTP or HTTP; see accession pages above for details."
   ]
  },
  {
   "cell_type": "markdown",
   "metadata": {},
   "source": [
    "## Obtaining the cmapR package\n",
    "\n",
    "cmapR source code can be obtained from [github](https://github.com/cmap/cmapr). To install the package, follow the install instructions in the README file within the cmapR repository."
   ]
  },
  {
   "cell_type": "markdown",
   "metadata": {},
   "source": [
    "## Loading the cmapR package\n",
    "\n",
    "cmapR can be loaded within an R session or script just like any other package."
   ]
  },
  {
   "cell_type": "code",
   "execution_count": 4,
   "metadata": {
    "collapsed": false
   },
   "outputs": [
    {
     "name": "stderr",
     "output_type": "stream",
     "text": [
      "Loading required package: rhdf5\n",
      "Warning message:\n",
      "“package ‘rhdf5’ was built under R version 3.2.2”Loading required package: data.table\n"
     ]
    }
   ],
   "source": [
    "# load the library\n",
    "library(cmapR)"
   ]
  },
  {
   "cell_type": "markdown",
   "metadata": {},
   "source": [
    "## GCT objects in R\n",
    "\n",
    "The main class of objects in cmapR is the `GCT` class. The `GCT` object contains a data `matrix` and (optionally) row and column annotations as `data.frame` objects. We can get more information about the class by viewing its help documentatoin."
   ]
  },
  {
   "cell_type": "code",
   "execution_count": 40,
   "metadata": {
    "collapsed": false
   },
   "outputs": [],
   "source": [
    "# access the GCT class help\n",
    "?`GCT-class`"
   ]
  },
  {
   "cell_type": "markdown",
   "metadata": {},
   "source": [
    "## Parsing files\n",
    "\n",
    "You can parse both GCT and GCTX files using the `parse.gctx` method. This method will read the corresponding GCT or GCTX file and return an object of class `GCT` into your R session."
   ]
  },
  {
   "cell_type": "markdown",
   "metadata": {},
   "source": [
    "### Parsing the entire file\n",
    "\n",
    "If the file you are working with fits entirely within your computer's memory, you can read the entire file in one shot. Using the level 5 matrix from GSE70138, that would look like the line below. We've commented it out here because the file is large enough that reading the whole thing is impractical."
   ]
  },
  {
   "cell_type": "code",
   "execution_count": 3,
   "metadata": {
    "collapsed": false
   },
   "outputs": [],
   "source": [
    "# create a variable to store the path to the level 5 GCTX file\n",
    "ds_path <- \"GSE70138_Broad_LINCS_Level5_COMPZ_n118050x12328_2017-03-06.gctx\"\n",
    "\n",
    "my_ds <- parse.gctx(ds_path)"
   ]
  },
  {
   "cell_type": "markdown",
   "metadata": {},
   "source": [
    "### Parsing a subset of a GCTX file\n",
    "\n",
    "When working with large GCTX files, such as those in the GEO repositories listed above, it is usually not possible to read the entire file into memory all at once. In these cases, it's helpful to identify a subset of the data that is of particular interest and read only those rows or columns. In this example, we'll use the level 5 signature metadata to find all the signatures (columns) pertaining to the compound vorinostat."
   ]
  },
  {
   "cell_type": "code",
   "execution_count": 4,
   "metadata": {
    "collapsed": false
   },
   "outputs": [
    {
     "name": "stderr",
     "output_type": "stream",
     "text": [
      "reading GSE70138_Broad_LINCS_Level5_COMPZ_n118050x12328_2017-03-06.gctx\n",
      "done\n"
     ]
    },
    {
     "data": {
      "text/plain": [
       "Formal class 'GCT' [package \"cmapR\"] with 7 slots\n",
       "  ..@ mat    : num [1:12328, 1:210] 1.194 -0.3476 0.0692 -1.0203 -2.2573 ...\n",
       "  .. ..- attr(*, \"dimnames\")=List of 2\n",
       "  .. .. ..$ : chr [1:12328] \"780\" \"7849\" \"2978\" \"2049\" ...\n",
       "  .. .. ..$ : chr [1:210] \"LJP007_ASC_24H:A03\" \"LJP007_HUES3_24H:A03\" \"LJP007_MNEU.E_24H:A03\" \"LJP007_NEU_24H:A03\" ...\n",
       "  ..@ rid    : chr [1:12328] \"780\" \"7849\" \"2978\" \"2049\" ...\n",
       "  ..@ cid    : chr [1:210] \"LJP007_ASC_24H:A03\" \"LJP007_HUES3_24H:A03\" \"LJP007_MNEU.E_24H:A03\" \"LJP007_NEU_24H:A03\" ...\n",
       "  ..@ rdesc  :'data.frame':\t12328 obs. of  1 variable:\n",
       "  .. ..$ id: chr [1:12328] \"780\" \"7849\" \"2978\" \"2049\" ...\n",
       "  ..@ cdesc  :'data.frame':\t210 obs. of  1 variable:\n",
       "  .. ..$ id: chr [1:210] \"LJP007_ASC_24H:A03\" \"LJP007_HUES3_24H:A03\" \"LJP007_MNEU.E_24H:A03\" \"LJP007_NEU_24H:A03\" ...\n",
       "  ..@ version: chr(0) \n",
       "  ..@ src    : chr \"GSE70138_Broad_LINCS_Level5_COMPZ_n118050x12328_2017-03-06.gctx\""
      ]
     },
     "metadata": {},
     "output_type": "display_data"
    }
   ],
   "source": [
    "# read the column annotations as a data.frame\n",
    "col_meta_path <- \"GSE70138_Broad_LINCS_sig_info_2017-03-06.txt\"\n",
    "col_meta <- read.delim(col_meta_path, sep=\"\\t\", stringsAsFactors=F)\n",
    "\n",
    "# figure out which signatures correspond to vorinostat by searching the 'pert_iname' column\n",
    "idx <- which(col_meta$pert_iname==\"vorinostat\")\n",
    "\n",
    "# and get the corresponding sig_ids\n",
    "sig_ids <- col_meta$sig_id[idx]\n",
    "\n",
    "# read only those columns from the GCTX file by using the 'cid' parameter\n",
    "vorinostat_ds <- parse.gctx(ds_path, cid=sig_ids)\n",
    "\n",
    "# simply typing the variable name of a GCT object will display the object structure, similar to calling 'str'\n",
    "vorinostat_ds"
   ]
  },
  {
   "cell_type": "markdown",
   "metadata": {},
   "source": [
    "## Creating a GCT object from existing workspace objects\n",
    "It's also possible to create a GCT object from existing objects in your R workspace. You will minimally need to have a matrix object, but can also optionally include `data.frame`s of row and column annotations."
   ]
  },
  {
   "cell_type": "code",
   "execution_count": 14,
   "metadata": {
    "collapsed": false
   },
   "outputs": [
    {
     "data": {
      "text/plain": [
       "Formal class 'GCT' [package \"cmapR\"] with 7 slots\n",
       "  ..@ mat    : num [1:10, 1:10] 1.075 0.503 -2.385 0.653 -1.134 ...\n",
       "  .. ..- attr(*, \"dimnames\")=List of 2\n",
       "  .. .. ..$ : chr [1:10] \"a\" \"b\" \"c\" \"d\" ...\n",
       "  .. .. ..$ : chr [1:10] \"A\" \"B\" \"C\" \"D\" ...\n",
       "  ..@ rid    : chr [1:10] \"a\" \"b\" \"c\" \"d\" ...\n",
       "  ..@ cid    : chr [1:10] \"A\" \"B\" \"C\" \"D\" ...\n",
       "  ..@ rdesc  :'data.frame':\t0 obs. of  0 variables\n",
       "Formal class 'data.frame' [package \"methods\"] with 4 slots\n",
       "  .. .. ..@ .Data    : list()\n",
       "  .. .. ..@ names    : chr(0) \n",
       "  .. .. ..@ row.names: int(0) \n",
       "  .. .. ..@ .S3Class : chr \"data.frame\"\n",
       "  ..@ cdesc  :'data.frame':\t0 obs. of  0 variables\n",
       "Formal class 'data.frame' [package \"methods\"] with 4 slots\n",
       "  .. .. ..@ .Data    : list()\n",
       "  .. .. ..@ names    : chr(0) \n",
       "  .. .. ..@ row.names: int(0) \n",
       "  .. .. ..@ .S3Class : chr \"data.frame\"\n",
       "  ..@ version: chr(0) \n",
       "  ..@ src    : chr(0) "
      ]
     },
     "metadata": {},
     "output_type": "display_data"
    },
    {
     "data": {
      "text/plain": [
       "Formal class 'GCT' [package \"cmapR\"] with 7 slots\n",
       "  ..@ mat    : num [1:10, 1:10] 1.075 0.503 -2.385 0.653 -1.134 ...\n",
       "  .. ..- attr(*, \"dimnames\")=List of 2\n",
       "  .. .. ..$ : chr [1:10] \"a\" \"b\" \"c\" \"d\" ...\n",
       "  .. .. ..$ : chr [1:10] \"A\" \"B\" \"C\" \"D\" ...\n",
       "  ..@ rid    : chr [1:10] \"a\" \"b\" \"c\" \"d\" ...\n",
       "  ..@ cid    : chr [1:10] \"A\" \"B\" \"C\" \"D\" ...\n",
       "  ..@ rdesc  :'data.frame':\t10 obs. of  2 variables:\n",
       "  .. ..$ id  : Factor w/ 10 levels \"a\",\"b\",\"c\",\"d\",..: 1 2 3 4 5 6 7 8 9 10\n",
       "  .. ..$ type: num [1:10] 1 1 1 1 1 2 2 2 2 2\n",
       "  ..@ cdesc  :'data.frame':\t10 obs. of  2 variables:\n",
       "  .. ..$ id  : Factor w/ 10 levels \"A\",\"B\",\"C\",\"D\",..: 1 2 3 4 5 6 7 8 9 10\n",
       "  .. ..$ type: num [1:10] 3 3 3 3 3 4 4 4 4 4\n",
       "  ..@ version: chr(0) \n",
       "  ..@ src    : chr(0) "
      ]
     },
     "metadata": {},
     "output_type": "display_data"
    }
   ],
   "source": [
    "# initialize a matrix object\n",
    "# note that you either must assign values to the rownames and colnames of the matrix, or pass them\n",
    "# as the 'rid' and 'cid' arguments to GCT\n",
    "mat <- matrix(stats::rnorm(100), ncol=10)\n",
    "rownames(mat) <- letters[1:10]\n",
    "colnames(mat) <- LETTERS[1:10]\n",
    "(my_ds <- new(\"GCT\", mat=mat))\n",
    "\n",
    "# we can also include the row/column annotations as data.frames\n",
    "# note these are just arbitrary annotations used to illustrate the function call\n",
    "rdesc <- data.frame(id=letters[1:10], type=rep(c(1, 2), each=5))\n",
    "cdesc <- data.frame(id=LETTERS[1:10], type=rep(c(3, 4), each=5))\n",
    "(my_ds <- new(\"GCT\", mat=mat, rdesc=rdesc, cdesc=cdesc))"
   ]
  },
  {
   "cell_type": "markdown",
   "metadata": {},
   "source": [
    "## Adding annotations to a GCT object\n",
    "\n",
    "When working with `GCT` objects, it's often convenient to have the row and column annotations embedded as the `rdesc` and `cdesc` slots, respectively. If these metadata are stored separatly from the GCTX file itself, you can read them in separately and then apply them to the `GCT` object using the `annotate.gct` function."
   ]
  },
  {
   "cell_type": "code",
   "execution_count": 14,
   "metadata": {
    "collapsed": false
   },
   "outputs": [
    {
     "data": {
      "text/plain": [
       "Formal class 'GCT' [package \"cmapR\"] with 7 slots\n",
       "  ..@ mat    : num [1:12328, 1:210] 1.194 -0.3476 0.0692 -1.0203 -2.2573 ...\n",
       "  .. ..- attr(*, \"dimnames\")=List of 2\n",
       "  .. .. ..$ : chr [1:12328] \"780\" \"7849\" \"2978\" \"2049\" ...\n",
       "  .. .. ..$ : chr [1:210] \"LJP007_ASC_24H:A03\" \"LJP007_HUES3_24H:A03\" \"LJP007_MNEU.E_24H:A03\" \"LJP007_NEU_24H:A03\" ...\n",
       "  ..@ rid    : chr [1:12328] \"780\" \"7849\" \"2978\" \"2049\" ...\n",
       "  ..@ cid    : chr [1:210] \"LJP007_ASC_24H:A03\" \"LJP007_HUES3_24H:A03\" \"LJP007_MNEU.E_24H:A03\" \"LJP007_NEU_24H:A03\" ...\n",
       "  ..@ rdesc  :'data.frame':\t12328 obs. of  1 variable:\n",
       "  .. ..$ id: chr [1:12328] \"780\" \"7849\" \"2978\" \"2049\" ...\n",
       "  ..@ cdesc  :'data.frame':\t210 obs. of  8 variables:\n",
       "  .. ..$ id        : chr [1:210] \"LJP007_ASC_24H:A03\" \"LJP007_HUES3_24H:A03\" \"LJP007_MNEU.E_24H:A03\" \"LJP007_NEU_24H:A03\" ...\n",
       "  .. ..$ sig_id    : chr [1:210] \"LJP007_ASC_24H:A03\" \"LJP007_HUES3_24H:A03\" \"LJP007_MNEU.E_24H:A03\" \"LJP007_NEU_24H:A03\" ...\n",
       "  .. ..$ pert_id   : chr [1:210] \"BRD-K81418486\" \"BRD-K81418486\" \"BRD-K81418486\" \"BRD-K81418486\" ...\n",
       "  .. ..$ pert_iname: chr [1:210] \"vorinostat\" \"vorinostat\" \"vorinostat\" \"vorinostat\" ...\n",
       "  .. ..$ pert_type : chr [1:210] \"trt_cp\" \"trt_cp\" \"trt_cp\" \"trt_cp\" ...\n",
       "  .. ..$ cell_id   : chr [1:210] \"ASC\" \"HUES3\" \"MNEU.E\" \"NEU\" ...\n",
       "  .. ..$ pert_idose: chr [1:210] \"10.0 um\" \"10.0 um\" \"10.0 um\" \"10.0 um\" ...\n",
       "  .. ..$ pert_itime: chr [1:210] \"24 h\" \"24 h\" \"24 h\" \"24 h\" ...\n",
       "  ..@ version: chr(0) \n",
       "  ..@ src    : chr \"GSE70138_Broad_LINCS_Level5_COMPZ_n118050x12328_2017-03-06.gctx\""
      ]
     },
     "metadata": {},
     "output_type": "display_data"
    }
   ],
   "source": [
    "# apply the col_meta data.frame as the column anntations to vorinostat_ds\n",
    "# note that col_meta must have a colum that corresponds to the 'cid' slot of my_ds, aka the 'keyfield'\n",
    "# note also how the 'cdesc' slot changes after annotating\n",
    "(vorinostat_ds_annotated <- annotate.gct(vorinostat_ds, col_meta, dim=\"col\", keyfield=\"sig_id\"))"
   ]
  },
  {
   "cell_type": "markdown",
   "metadata": {},
   "source": [
    "### Parsing metadata from a GCTX file\n",
    "\n",
    "In the example above, the signature metadata is stored separately from the GCTX file, and so we could read it in as a `data.frame` using `read.delim` or some equivalent. However, in some cases the metadata may be stored in the GCTX file itself. We can extract the metadata from a GCTX file using the `read.gctx.meta` function and then use this metadata to idenfity the relevant subsets of the matrix, as shown above."
   ]
  },
  {
   "cell_type": "code",
   "execution_count": 6,
   "metadata": {
    "collapsed": true
   },
   "outputs": [],
   "source": [
    "# extract the column metadata, again assuming the GCTX file is in our working directory\n",
    "col_meta_from_gctx <- read.gctx.meta(ds_path, dim=\"col\")\n",
    "\n",
    "# we can also extract the row metadata, if desired, by simply changing the 'dim' parameter\n",
    "row_meta_from_gctx <- read.gctx.meta(ds_path, dim=\"row\")"
   ]
  },
  {
   "cell_type": "markdown",
   "metadata": {},
   "source": [
    "## Slicing a GCT object\n",
    "\n",
    "Just as it's possible to read a subset of rows or columns from a GCTX file, it is also possible to extract a subset of rows or columns from a GCT object in memory. This is done with the `subset.gct` function."
   ]
  },
  {
   "cell_type": "code",
   "execution_count": 27,
   "metadata": {
    "collapsed": false
   },
   "outputs": [
    {
     "name": "stderr",
     "output_type": "stream",
     "text": [
      "vorinostat_ds_A375:\n"
     ]
    },
    {
     "data": {
      "text/html": [
       "<ol class=list-inline>\n",
       "\t<li>12328</li>\n",
       "\t<li>18</li>\n",
       "</ol>\n"
      ],
      "text/latex": [
       "\\begin{enumerate*}\n",
       "\\item 12328\n",
       "\\item 18\n",
       "\\end{enumerate*}\n"
      ],
      "text/markdown": [
       "1. 12328\n",
       "2. 18\n",
       "\n",
       "\n"
      ],
      "text/plain": [
       "[1] 12328    18"
      ]
     },
     "metadata": {},
     "output_type": "display_data"
    },
    {
     "name": "stderr",
     "output_type": "stream",
     "text": [
      "vorinostat_ds_A375_first_25:\n"
     ]
    },
    {
     "data": {
      "text/html": [
       "<ol class=list-inline>\n",
       "\t<li>25</li>\n",
       "\t<li>18</li>\n",
       "</ol>\n"
      ],
      "text/latex": [
       "\\begin{enumerate*}\n",
       "\\item 25\n",
       "\\item 18\n",
       "\\end{enumerate*}\n"
      ],
      "text/markdown": [
       "1. 25\n",
       "2. 18\n",
       "\n",
       "\n"
      ],
      "text/plain": [
       "[1] 25 18"
      ]
     },
     "metadata": {},
     "output_type": "display_data"
    }
   ],
   "source": [
    "# using my_ds_annotated, slice out the columns corresponding to the A375 cell line\n",
    "# we first need to determine which columns correspond to A375, but we can\n",
    "# do this using the column annotations\n",
    "idx <- which(vorinostat_ds_annotated@cdesc$cell_id == \"A375\")\n",
    "vorinostat_ds_A375 <- subset.gct(vorinostat_ds_annotated, cid=idx)\n",
    "\n",
    "# we can check the dimensionality of the any GCT object using the 'dim' function\n",
    "message(\"vorinostat_ds_A375:\")\n",
    "dim(vorinostat_ds_A375)\n",
    "\n",
    "# similarly, we can slice out the first 25 rows of this GCT object using the 'rid' parameter\n",
    "vorinostat_ds_A375_first_25 <- subset.gct(vorinostat_ds_A375, rid=1:25)\n",
    "\n",
    "# we can check the dimensionality of the any GCT object using the 'dim' function\n",
    "message(\"vorinostat_ds_A375_first_25:\")\n",
    "dim(vorinostat_ds_A375_first_25)"
   ]
  },
  {
   "cell_type": "markdown",
   "metadata": {},
   "source": [
    "## Melting GCT objects\n",
    "\n",
    "It's often useful to have data stored in long form `data.frame` objects, especially for compatibility with plotting libraries like [`ggplot2`](http://docs.ggplot2.org/current/). It's possible to convert a `GCT` object into this long form by using the `melt.gct` function, which relies on the `melt` function in the [`data.table`](https://cran.r-project.org/web/packages/data.table/) package."
   ]
  },
  {
   "cell_type": "code",
   "execution_count": 22,
   "metadata": {
    "collapsed": false
   },
   "outputs": [
    {
     "name": "stderr",
     "output_type": "stream",
     "text": [
      "melting GCT object...\n",
      "done\n"
     ]
    },
    {
     "data": {},
     "metadata": {},
     "output_type": "display_data"
    },
    {
     "data": {},
     "metadata": {},
     "output_type": "display_data"
    },
    {
     "data": {
      "image/png": "[encoded data removed]",
      "text/plain": [
       "plot without title"
      ]
     },
     "metadata": {},
     "output_type": "display_data"
    }
   ],
   "source": [
    "# convert my_ds_A375_first_25 to long form so we can plot the z-scores\n",
    "# of these 25 genes grouped by dose\n",
    "(vorinostat_ds_A375_first_25_melted <- melt.gct(vorinostat_ds_A375_first_25))\n",
    "library(ggplot2)\n",
    "ggplot(vorinostat_ds_A375_first_25_melted) + geom_boxplot(aes(x=pert_idose, y=value)) + ylab(\"z-score\")"
   ]
  },
  {
   "cell_type": "markdown",
   "metadata": {},
   "source": [
    "## Merging two GCT objects\n",
    "\n",
    "You can combine two independent `GCT` objects using the `merge.gct` function. Note that it is important to specify which dimension (row or column) you wish to merge on and that the two `GCT` objects in question share one common dimension."
   ]
  },
  {
   "cell_type": "code",
   "execution_count": 31,
   "metadata": {
    "collapsed": false
   },
   "outputs": [
    {
     "data": {
      "text/html": [
       "<ol class=list-inline>\n",
       "\t<li>12328</li>\n",
       "\t<li>15</li>\n",
       "</ol>\n"
      ],
      "text/latex": [
       "\\begin{enumerate*}\n",
       "\\item 12328\n",
       "\\item 15\n",
       "\\end{enumerate*}\n"
      ],
      "text/markdown": [
       "1. 12328\n",
       "2. 15\n",
       "\n",
       "\n"
      ],
      "text/plain": [
       "[1] 12328    15"
      ]
     },
     "metadata": {},
     "output_type": "display_data"
    },
    {
     "name": "stderr",
     "output_type": "stream",
     "text": [
      "appending columns...\n"
     ]
    },
    {
     "data": {
      "text/plain": [
       "\n",
       "A375  PC3 \n",
       "  18   15 "
      ]
     },
     "metadata": {},
     "output_type": "display_data"
    }
   ],
   "source": [
    "# extract the vorinostat signatures in PC3 as another separate dataset\n",
    "idx <- which(vorinostat_ds_annotated@cdesc$cell_id == \"PC3\")\n",
    "vorinostat_ds_PC3 <- subset.gct(vorinostat_ds_annotated, cid=idx)\n",
    "dim(vorinostat_ds_PC3)\n",
    "\n",
    "# merge the A375 and PC3 GCT objects together by columns, because\n",
    "# the two objects share common rows. this is equivalent to a 'cbind' operation\n",
    "# on matrices\n",
    "vorinostat_ds_A375_PC3 <- merge.gct(vorinostat_ds_A375, vorinostat_ds_PC3, dim=\"column\")\n",
    "table(vorinostat_ds_A375_PC3@cdesc$cell_id)"
   ]
  },
  {
   "cell_type": "markdown",
   "metadata": {},
   "source": [
    "## Math operations on GCT objects\n",
    "\n",
    "The `@mat` slot of a GCT object is a base R matrix object, so it's possible to perform standard math operations on this matrix. Below are a few simple examples, but these can easily be extended, particulary through use of the `apply` function."
   ]
  },
  {
   "cell_type": "code",
   "execution_count": 34,
   "metadata": {
    "collapsed": false
   },
   "outputs": [
    {
     "name": "stderr",
     "output_type": "stream",
     "text": [
      "means:\n"
     ]
    },
    {
     "data": {
      "text/html": [
       "<dl class=dl-horizontal>\n",
       "\t<dt>780</dt>\n",
       "\t\t<dd>-0.720864853293945</dd>\n",
       "\t<dt>7849</dt>\n",
       "\t\t<dd>-0.153599414114086</dd>\n",
       "\t<dt>2978</dt>\n",
       "\t\t<dd>0.153681980499199</dd>\n",
       "\t<dt>2049</dt>\n",
       "\t\t<dd>-0.265462313911745</dd>\n",
       "\t<dt>2101</dt>\n",
       "\t\t<dd>-0.273076978042012</dd>\n",
       "\t<dt>8717</dt>\n",
       "\t\t<dd>-0.0661405562489693</dd>\n",
       "</dl>\n"
      ],
      "text/latex": [
       "\\begin{description*}\n",
       "\\item[780] -0.720864853293945\n",
       "\\item[7849] -0.153599414114086\n",
       "\\item[2978] 0.153681980499199\n",
       "\\item[2049] -0.265462313911745\n",
       "\\item[2101] -0.273076978042012\n",
       "\\item[8717] -0.0661405562489693\n",
       "\\end{description*}\n"
      ],
      "text/markdown": [
       "780\n",
       ":   -0.7208648532939457849\n",
       ":   -0.1535994141140862978\n",
       ":   0.1536819804991992049\n",
       ":   -0.2654623139117452101\n",
       ":   -0.2730769780420128717\n",
       ":   -0.0661405562489693\n",
       "\n"
      ],
      "text/plain": [
       "        780        7849        2978        2049        2101        8717 \n",
       "-0.72086485 -0.15359941  0.15368198 -0.26546231 -0.27307698 -0.06614056 "
      ]
     },
     "metadata": {},
     "output_type": "display_data"
    },
    {
     "data": {
      "text/html": [
       "<dl class=dl-horizontal>\n",
       "\t<dt>LJP007_ASC_24H:A03</dt>\n",
       "\t\t<dd>0.146632784086234</dd>\n",
       "\t<dt>LJP007_HUES3_24H:A03</dt>\n",
       "\t\t<dd>1.18300401458541</dd>\n",
       "\t<dt>LJP007_MNEU.E_24H:A03</dt>\n",
       "\t\t<dd>0.281486401778692</dd>\n",
       "\t<dt>LJP007_NEU_24H:A03</dt>\n",
       "\t\t<dd>0.0582941398593427</dd>\n",
       "\t<dt>LJP007_NPC.CAS9_24H:A03</dt>\n",
       "\t\t<dd>-0.0296332819602545</dd>\n",
       "\t<dt>LJP007_NPC_24H:A03</dt>\n",
       "\t\t<dd>-0.129670901347005</dd>\n",
       "</dl>\n"
      ],
      "text/latex": [
       "\\begin{description*}\n",
       "\\item[LJP007\\textbackslash{}\\_ASC\\textbackslash{}\\_24H:A03] 0.146632784086234\n",
       "\\item[LJP007\\textbackslash{}\\_HUES3\\textbackslash{}\\_24H:A03] 1.18300401458541\n",
       "\\item[LJP007\\textbackslash{}\\_MNEU.E\\textbackslash{}\\_24H:A03] 0.281486401778692\n",
       "\\item[LJP007\\textbackslash{}\\_NEU\\textbackslash{}\\_24H:A03] 0.0582941398593427\n",
       "\\item[LJP007\\textbackslash{}\\_NPC.CAS9\\textbackslash{}\\_24H:A03] -0.0296332819602545\n",
       "\\item[LJP007\\textbackslash{}\\_NPC\\textbackslash{}\\_24H:A03] -0.129670901347005\n",
       "\\end{description*}\n"
      ],
      "text/markdown": [
       "LJP007_ASC_24H:A03\n",
       ":   0.146632784086234LJP007_HUES3_24H:A03\n",
       ":   1.18300401458541LJP007_MNEU.E_24H:A03\n",
       ":   0.281486401778692LJP007_NEU_24H:A03\n",
       ":   0.0582941398593427LJP007_NPC.CAS9_24H:A03\n",
       ":   -0.0296332819602545LJP007_NPC_24H:A03\n",
       ":   -0.129670901347005\n",
       "\n"
      ],
      "text/plain": [
       "     LJP007_ASC_24H:A03    LJP007_HUES3_24H:A03   LJP007_MNEU.E_24H:A03 \n",
       "             0.14663278              1.18300401              0.28148640 \n",
       "     LJP007_NEU_24H:A03 LJP007_NPC.CAS9_24H:A03      LJP007_NPC_24H:A03 \n",
       "             0.05829414             -0.02963328             -0.12967090 "
      ]
     },
     "metadata": {},
     "output_type": "display_data"
    },
    {
     "name": "stderr",
     "output_type": "stream",
     "text": [
      "maxes:\n"
     ]
    },
    {
     "data": {
      "text/html": [
       "<dl class=dl-horizontal>\n",
       "\t<dt>780</dt>\n",
       "\t\t<dd>5.04050159454346</dd>\n",
       "\t<dt>7849</dt>\n",
       "\t\t<dd>10</dd>\n",
       "\t<dt>2978</dt>\n",
       "\t\t<dd>2.58340001106262</dd>\n",
       "\t<dt>2049</dt>\n",
       "\t\t<dd>2.70230007171631</dd>\n",
       "\t<dt>2101</dt>\n",
       "\t\t<dd>3.57204031944275</dd>\n",
       "\t<dt>8717</dt>\n",
       "\t\t<dd>6.63739967346191</dd>\n",
       "</dl>\n"
      ],
      "text/latex": [
       "\\begin{description*}\n",
       "\\item[780] 5.04050159454346\n",
       "\\item[7849] 10\n",
       "\\item[2978] 2.58340001106262\n",
       "\\item[2049] 2.70230007171631\n",
       "\\item[2101] 3.57204031944275\n",
       "\\item[8717] 6.63739967346191\n",
       "\\end{description*}\n"
      ],
      "text/markdown": [
       "780\n",
       ":   5.040501594543467849\n",
       ":   102978\n",
       ":   2.583400011062622049\n",
       ":   2.702300071716312101\n",
       ":   3.572040319442758717\n",
       ":   6.63739967346191\n",
       "\n"
      ],
      "text/plain": [
       "      780      7849      2978      2049      2101      8717 \n",
       " 5.040502 10.000000  2.583400  2.702300  3.572040  6.637400 "
      ]
     },
     "metadata": {},
     "output_type": "display_data"
    },
    {
     "data": {
      "text/html": [
       "<dl class=dl-horizontal>\n",
       "\t<dt>LJP007_ASC_24H:A03</dt>\n",
       "\t\t<dd>9.45303344726562</dd>\n",
       "\t<dt>LJP007_HUES3_24H:A03</dt>\n",
       "\t\t<dd>10</dd>\n",
       "\t<dt>LJP007_MNEU.E_24H:A03</dt>\n",
       "\t\t<dd>9.58150005340576</dd>\n",
       "\t<dt>LJP007_NEU_24H:A03</dt>\n",
       "\t\t<dd>7.50228929519653</dd>\n",
       "\t<dt>LJP007_NPC.CAS9_24H:A03</dt>\n",
       "\t\t<dd>10</dd>\n",
       "\t<dt>LJP007_NPC_24H:A03</dt>\n",
       "\t\t<dd>10</dd>\n",
       "</dl>\n"
      ],
      "text/latex": [
       "\\begin{description*}\n",
       "\\item[LJP007\\textbackslash{}\\_ASC\\textbackslash{}\\_24H:A03] 9.45303344726562\n",
       "\\item[LJP007\\textbackslash{}\\_HUES3\\textbackslash{}\\_24H:A03] 10\n",
       "\\item[LJP007\\textbackslash{}\\_MNEU.E\\textbackslash{}\\_24H:A03] 9.58150005340576\n",
       "\\item[LJP007\\textbackslash{}\\_NEU\\textbackslash{}\\_24H:A03] 7.50228929519653\n",
       "\\item[LJP007\\textbackslash{}\\_NPC.CAS9\\textbackslash{}\\_24H:A03] 10\n",
       "\\item[LJP007\\textbackslash{}\\_NPC\\textbackslash{}\\_24H:A03] 10\n",
       "\\end{description*}\n"
      ],
      "text/markdown": [
       "LJP007_ASC_24H:A03\n",
       ":   9.45303344726562LJP007_HUES3_24H:A03\n",
       ":   10LJP007_MNEU.E_24H:A03\n",
       ":   9.58150005340576LJP007_NEU_24H:A03\n",
       ":   7.50228929519653LJP007_NPC.CAS9_24H:A03\n",
       ":   10LJP007_NPC_24H:A03\n",
       ":   10\n",
       "\n"
      ],
      "text/plain": [
       "     LJP007_ASC_24H:A03    LJP007_HUES3_24H:A03   LJP007_MNEU.E_24H:A03 \n",
       "               9.453033               10.000000                9.581500 \n",
       "     LJP007_NEU_24H:A03 LJP007_NPC.CAS9_24H:A03      LJP007_NPC_24H:A03 \n",
       "               7.502289               10.000000               10.000000 "
      ]
     },
     "metadata": {},
     "output_type": "display_data"
    }
   ],
   "source": [
    "# compute the row and column means\n",
    "row_means <- rowMeans(vorinostat_ds_annotated@mat)\n",
    "col_means <- colMeans(vorinostat_ds_annotated@mat)\n",
    "message(\"means:\")\n",
    "head(row_means)\n",
    "head(col_means)\n",
    "\n",
    "# using 'apply', compute the max of each row and column\n",
    "row_max <- apply(vorinostat_ds_annotated@mat, 1, max)\n",
    "col_max <- apply(vorinostat_ds_annotated@mat, 2, max)\n",
    "message(\"maxes:\")\n",
    "head(row_max)\n",
    "head(col_max)"
   ]
  },
  {
   "cell_type": "markdown",
   "metadata": {},
   "source": [
    "### GCT-specific math functions\n",
    "\n",
    "cmapR also contains a handful of math functions designed specifically for operating on `GCT` objects."
   ]
  },
  {
   "cell_type": "code",
   "execution_count": 38,
   "metadata": {
    "collapsed": false
   },
   "outputs": [
    {
     "data": {
      "text/plain": [
       "Formal class 'GCT' [package \"cmapR\"] with 7 slots\n",
       "  ..@ mat    : num [1:210, 1:12328] 1.19 -3.1 -2.9 -2.95 -10 ...\n",
       "  .. ..- attr(*, \"dimnames\")=List of 2\n",
       "  .. .. ..$ : chr [1:210] \"LJP007_ASC_24H:A03\" \"LJP007_HUES3_24H:A03\" \"LJP007_MNEU.E_24H:A03\" \"LJP007_NEU_24H:A03\" ...\n",
       "  .. .. ..$ : chr [1:12328] \"780\" \"7849\" \"2978\" \"2049\" ...\n",
       "  ..@ rid    : chr [1:210] \"LJP007_ASC_24H:A03\" \"LJP007_HUES3_24H:A03\" \"LJP007_MNEU.E_24H:A03\" \"LJP007_NEU_24H:A03\" ...\n",
       "  ..@ cid    : chr [1:12328] \"780\" \"7849\" \"2978\" \"2049\" ...\n",
       "  ..@ rdesc  :'data.frame':\t210 obs. of  8 variables:\n",
       "  .. ..$ id        : chr [1:210] \"LJP007_ASC_24H:A03\" \"LJP007_HUES3_24H:A03\" \"LJP007_MNEU.E_24H:A03\" \"LJP007_NEU_24H:A03\" ...\n",
       "  .. ..$ sig_id    : chr [1:210] \"LJP007_ASC_24H:A03\" \"LJP007_HUES3_24H:A03\" \"LJP007_MNEU.E_24H:A03\" \"LJP007_NEU_24H:A03\" ...\n",
       "  .. ..$ pert_id   : chr [1:210] \"BRD-K81418486\" \"BRD-K81418486\" \"BRD-K81418486\" \"BRD-K81418486\" ...\n",
       "  .. ..$ pert_iname: chr [1:210] \"vorinostat\" \"vorinostat\" \"vorinostat\" \"vorinostat\" ...\n",
       "  .. ..$ pert_type : chr [1:210] \"trt_cp\" \"trt_cp\" \"trt_cp\" \"trt_cp\" ...\n",
       "  .. ..$ cell_id   : chr [1:210] \"ASC\" \"HUES3\" \"MNEU.E\" \"NEU\" ...\n",
       "  .. ..$ pert_idose: chr [1:210] \"10.0 um\" \"10.0 um\" \"10.0 um\" \"10.0 um\" ...\n",
       "  .. ..$ pert_itime: chr [1:210] \"24 h\" \"24 h\" \"24 h\" \"24 h\" ...\n",
       "  ..@ cdesc  :'data.frame':\t12328 obs. of  1 variable:\n",
       "  .. ..$ id: chr [1:12328] \"780\" \"7849\" \"2978\" \"2049\" ...\n",
       "  ..@ version: chr(0) \n",
       "  ..@ src    : chr \"GSE70138_Broad_LINCS_Level5_COMPZ_n118050x12328_2017-03-06.gctx\""
      ]
     },
     "metadata": {},
     "output_type": "display_data"
    },
    {
     "data": {
      "image/png": "[encoded data removed]",
      "text/plain": [
       "Plot with title “z-score vs. rank”"
      ]
     },
     "metadata": {},
     "output_type": "display_data"
    }
   ],
   "source": [
    "# transposing a GCT object - also swaps row and column annotations\n",
    "(vorinostat_ds_transpose <- transpose.gct(vorinostat_ds_annotated))\n",
    "\n",
    "# converting a GCT object's matrix to ranks\n",
    "# the 'dim' option controls the direction along which the ranks are calculated\n",
    "vorinostat_ds_rank_by_column <- rank.gct(vorinostat_ds_annotated, dim=\"col\")\n",
    "\n",
    "# plot z-score vs rank for the first 25 genes (rows)\n",
    "plot(vorinostat_ds_rank_by_column@mat[1:25, ], vorinostat_ds_annotated@mat[1:25, ],\n",
    "    xlab=\"rank\", ylab=\"z-score\", main=\"z-score vs. rank\")"
   ]
  },
  {
   "cell_type": "markdown",
   "metadata": {},
   "source": [
    "## Writing GCT objects to disk\n",
    "\n",
    "`GCT` objects can be written to disk either in GCT or GCTX format using the `write.gct` and `write.gctx` functions, respectively."
   ]
  },
  {
   "cell_type": "code",
   "execution_count": 39,
   "metadata": {
    "collapsed": false
   },
   "outputs": [
    {
     "name": "stdout",
     "output_type": "stream",
     "text": [
      "Saving file to ./vorinostat_ds_A375_first_25_n18x25.gct\n",
      "Dimensions of matrix: [25x18]\n",
      "Setting precision to 4\n",
      "Saved.\n"
     ]
    },
    {
     "name": "stderr",
     "output_type": "stream",
     "text": [
      "writing ./vorinostat_ds_A375_first_25_n18x25.gctx\n",
      "chunk sizes:\t25\t18\n",
      "writing ./vorinostat_ds_A375_first_25_compressed_n18x25.gctx\n",
      "chunk sizes:\t25\t18\n"
     ]
    }
   ],
   "source": [
    "# write the vorinostat_ds_A375_first_25 dataset in both GCT and GCTX format\n",
    "write.gct(vorinostat_ds_A375_first_25, \"vorinostat_ds_A375_first_25\")\n",
    "write.gctx(vorinostat_ds_A375_first_25, \"vorinostat_ds_A375_first_25\")\n",
    "\n",
    "# write.gctx can also compress the dataset upon write,\n",
    "# which can be controlled using the 'compression_level' option.\n",
    "# the higher the value, the greater the compression, but the\n",
    "# longer the read/write time\n",
    "write.gctx(vorinostat_ds_A375_first_25, \"vorinostat_ds_A375_first_25_compressed\",\n",
    "          compression_level=9)"
   ]
  }
 ],
 "metadata": {
  "anaconda-cloud": {},
  "kernelspec": {
   "display_name": "R",
   "language": "R",
   "name": "ir"
  },
  "language_info": {
   "codemirror_mode": "r",
   "file_extension": ".r",
   "mimetype": "text/x-r-source",
   "name": "R",
   "pygments_lexer": "r",
   "version": "3.2.1"
  }
 },
 "nbformat": 4,
 "nbformat_minor": 1
}
